{
 "cells": [
  {
   "cell_type": "code",
   "execution_count": 1,
   "id": "36cabf2e",
   "metadata": {},
   "outputs": [],
   "source": [
    "#Python Basic commands"
   ]
  },
  {
   "cell_type": "code",
   "execution_count": 2,
   "id": "fa7c7d25",
   "metadata": {},
   "outputs": [
    {
     "name": "stdout",
     "output_type": "stream",
     "text": [
      "Integers:\n",
      "addition:  30\n",
      "exponential:  100000000000000000000 \n",
      "\n",
      "Float & boolean:\n",
      "Greater:  True \n",
      "\n",
      "String: \n",
      "My name is  Muntazer mehdi\n",
      "First character:  M\n",
      "First character:  i\n"
     ]
    }
   ],
   "source": [
    "#Data types\n",
    "print(\"Integers:\")\n",
    "x = 10\n",
    "y = 20\n",
    "addition = x + y\n",
    "exponential = x ** y\n",
    "print(\"addition: \", addition)\n",
    "print(\"exponential: \", exponential, \"\\n\")\n",
    "\n",
    "print(\"Float & boolean:\")\n",
    "a = 1.0\n",
    "b = 1.5\n",
    "if a > b:\n",
    "    is_greater = False\n",
    "else:\n",
    "    is_greater = True\n",
    "print(\"Greater: \", is_greater, \"\\n\")\n",
    "\n",
    "print(\"String: \")\n",
    "first = \"Muntazer\"\n",
    "second = \"mehdi\"\n",
    "name = first + \" \" + second\n",
    "print(\"My name is \", name)\n",
    "print(\"First character: \", name[0])\n",
    "print(\"First character: \", name[13])"
   ]
  },
  {
   "cell_type": "code",
   "execution_count": 3,
   "id": "68654c13",
   "metadata": {},
   "outputs": [
    {
     "name": "stdout",
     "output_type": "stream",
     "text": [
      "Integer conversion: \n",
      "Convert float to integer:  1\n",
      "Convert string to integer:  12\n",
      "Type of values:  <class 'int'>\n",
      "\n",
      "String conversion: \n",
      "Convert float to string:  1.0\n",
      "Convert integer to string:  12\n",
      "Type of values:  <class 'str'>\n",
      "\n",
      "Float conversion: \n",
      "Convert string to float:  1.0\n",
      "Convert integer to float:  12.0\n",
      "Type of values:  <class 'float'>\n",
      "\n",
      "boolean conversion: \n",
      "Convert string to boolean:  False\n",
      "Convert string to boolean:  True\n",
      "Type of values:  <class 'bool'>\n"
     ]
    }
   ],
   "source": [
    "#Type conversion\n",
    "print(\"Integer conversion: \")\n",
    "float_x = 1.0\n",
    "string_x = \"12\"\n",
    "print(\"Convert float to integer: \" , int(float_x))\n",
    "print(\"Convert string to integer: \" , int(string_x))\n",
    "print(\"Type of values: \", type(int(float_x)))\n",
    "\n",
    "print(\"\\nString conversion: \")\n",
    "float_y = 1.0\n",
    "int_y = 12\n",
    "print(\"Convert float to string: \" , str(float_y))\n",
    "print(\"Convert integer to string: \" , str(int_y))\n",
    "print(\"Type of values: \", type(str(float_y)))\n",
    "\n",
    "print(\"\\nFloat conversion: \")\n",
    "string_z = \"1\"\n",
    "int_z = 12\n",
    "print(\"Convert string to float: \" , float(string_z))\n",
    "print(\"Convert integer to float: \" , float(int_z))\n",
    "print(\"Type of values: \", type(float(string_z)))\n",
    "\n",
    "print(\"\\nboolean conversion: \")\n",
    "string_z_1 = \"\"\n",
    "string_z_2= \"non empty\"\n",
    "print(\"Convert string to boolean: \" , bool(string_z_1))\n",
    "print(\"Convert string to boolean: \" , bool(string_z_2))\n",
    "print(\"Type of values: \", type(bool(string_z_2)))"
   ]
  },
  {
   "cell_type": "code",
   "execution_count": 4,
   "id": "c92be292",
   "metadata": {},
   "outputs": [
    {
     "name": "stdout",
     "output_type": "stream",
     "text": [
      "Comparison Operators: \n",
      "equal:  False\n",
      "not equal:  True\n",
      "greater equal:  False\n",
      "less equal:  True\n",
      "chaining:  True\n",
      "\n",
      "Logical Operators: \n",
      "if both condition true then And operator\n",
      "if one condition true from above two condition then or operator\n",
      "Not operator:  False\n",
      "\n",
      "Assignment Operators: \n",
      "+=:  20\n",
      "-=:  6\n",
      "*=:  100\n",
      "/=:  5.0\n",
      "%=:  0\n"
     ]
    }
   ],
   "source": [
    "#operators\n",
    "print(\"Comparison Operators: \")\n",
    "x = 10\n",
    "y = 20\n",
    "equal = x == y\n",
    "not_equal = x != y\n",
    "greater_equal = x >= y \n",
    "less_equal = x <= y\n",
    "chaining = x < y and y > x\n",
    "print(\"equal: \", equal)\n",
    "print(\"not equal: \", not_equal)\n",
    "print(\"greater equal: \", greater_equal)\n",
    "print(\"less equal: \", less_equal)\n",
    "print(\"chaining: \", chaining)\n",
    "\n",
    "print(\"\\nLogical Operators: \")\n",
    "x = 10\n",
    "y = 20\n",
    "z = 10\n",
    "if x < y and x == z:\n",
    "    print(\"if both condition true then And operator\")\n",
    "if x > y or x == z:\n",
    "    print(\"if one condition true from above two condition then or operator\")\n",
    "result = not x\n",
    "print(\"Not operator: \", result)\n",
    "\n",
    "print(\"\\nAssignment Operators: \")\n",
    "x_1 = 10\n",
    "x_1+=10\n",
    "print(\"+=: \", x_1)\n",
    "x_2 = 10\n",
    "x_2-=4\n",
    "print(\"-=: \", x_2)\n",
    "x_3 = 10\n",
    "x_3*=10\n",
    "print(\"*=: \", x_3)\n",
    "x_4 = 10\n",
    "x_4/=2\n",
    "print(\"/=: \", x_4)\n",
    "x_5 = 10\n",
    "x_5%=2\n",
    "print(\"%=: \", x_5)"
   ]
  },
  {
   "cell_type": "code",
   "execution_count": 5,
   "id": "91b46056",
   "metadata": {},
   "outputs": [
    {
     "name": "stdout",
     "output_type": "stream",
     "text": [
      "For loops: \n",
      "sum 650\n",
      "\n",
      "range in loops: \n",
      "list_of_odd: [1, 3, 5, 7, 9]\n",
      "\n",
      "While loops: \n",
      "Total Years:  15\n"
     ]
    }
   ],
   "source": [
    "#loops\n",
    "print(\"For loops: \")\n",
    "sum = 0\n",
    "for i in range(1, 51):\n",
    "    if i % 2 == 0:\n",
    "        sum += i\n",
    "print(\"sum\", sum)\n",
    "print(\"\\nrange in loops: \")\n",
    "list_of_odd = list(range(1,11,2))\n",
    "print(\"list_of_odd:\", list_of_odd)\n",
    "\n",
    "print(\"\\nWhile loops: \")\n",
    "year = 0;\n",
    "initial_deposit = 1000\n",
    "annual_interest_rate = 0.05\n",
    "target_amount = 2000\n",
    "while initial_deposit < target_amount:\n",
    "    year += 1\n",
    "    new_balance = initial_deposit * (1 + annual_interest_rate)\n",
    "    initial_deposit = new_balance\n",
    "print(\"Total Years: \", year)"
   ]
  },
  {
   "cell_type": "code",
   "execution_count": 6,
   "id": "4d9b0a5f",
   "metadata": {},
   "outputs": [
    {
     "name": "stdout",
     "output_type": "stream",
     "text": [
      "Category-wise Total Sales:\n",
      "Electronics: $6250\n",
      "Accessories: $600\n",
      "Fashion: $100\n",
      "top sales:  Electronics\n"
     ]
    }
   ],
   "source": [
    "#loops Example\n",
    "\n",
    "def analyze_sales_categories(transactions):\n",
    "    products ={}\n",
    "    total_amount_ele = 0\n",
    "    total_amount_acc = 0\n",
    "    total_amount_fas = 0\n",
    "    for transaction in transactions:\n",
    "        category = transaction[\"category\"];\n",
    "        quantity = transaction[\"quantity\"];\n",
    "        amount = transaction[\"total_amount\"];\n",
    "        if category in products:\n",
    "            products[category] += amount\n",
    "        else:\n",
    "            products[category] = amount\n",
    "            \n",
    "    print(\"Category-wise Total Sales:\")\n",
    "    for category, total_sales in products.items():\n",
    "        print(f\"{category}: ${total_sales}\")\n",
    "    \n",
    "    top_sales = max(products, key=products.get)\n",
    "    print(\"top sales: \", top_sales)\n",
    "\n",
    "# Example usage\n",
    "transactions = [\n",
    "    {\"product\": \"Laptop\", \"quantity\": 3, \"total_amount\": 4500, \"category\": \"Electronics\"},\n",
    "    {\"product\": \"Mouse\", \"quantity\": 10, \"total_amount\": 200, \"category\": \"Accessories\"},\n",
    "    {\"product\": \"Keyboard\", \"quantity\": 5, \"total_amount\": 400, \"category\": \"Accessories\"},\n",
    "    {\"product\": \"Monitor\", \"quantity\": 2, \"total_amount\": 1200, \"category\": \"Electronics\"},\n",
    "    {\"product\": \"Headphones\", \"quantity\": 4, \"total_amount\": 300, \"category\": \"Electronics\"},\n",
    "    {\"product\": \"Backpack\", \"quantity\": 2, \"total_amount\": 100, \"category\": \"Fashion\"},\n",
    "    {\"product\": \"Smartwatch\", \"quantity\": 1, \"total_amount\": 250, \"category\": \"Electronics\"},\n",
    "]\n",
    "\n",
    "analyze_sales_categories(transactions)"
   ]
  },
  {
   "cell_type": "code",
   "execution_count": 7,
   "id": "2f71845f",
   "metadata": {},
   "outputs": [
    {
     "name": "stdout",
     "output_type": "stream",
     "text": [
      "Name:\t Quantity:\t Price:\t\t TotalPrice:\t\n",
      "Laptop \t 5 \t\t 40000 \t\t 200000 \t\n",
      "screen \t 5 \t\t 15500 \t\t 77500 \t\n",
      "Mobile \t 18 \t\t 32000 \t\t 576000 \t\n"
     ]
    }
   ],
   "source": [
    "#functions\n",
    "#Inventory System:\n",
    "\n",
    "def calculate_total_cost(name,quantity,price):\n",
    "    totalprice = quantity*price;\n",
    "    print(name, \"\\t\",quantity, \"\\t\\t\", price, \"\\t\\t\", totalprice, \"\\t\");\n",
    "\n",
    "name= [\"Laptop\",\"screen\", \"Mobile\"]\n",
    "quantity= [5,5,18]\n",
    "price= [40000,15500,32000]\n",
    "print(\"Name:\\t\", \"Quantity:\\t\", \"Price:\\t\\t\", \"TotalPrice:\\t\");\n",
    "for i in range(0,3):\n",
    "    calculate_total_cost(name[i],quantity[i],price[i])"
   ]
  },
  {
   "cell_type": "code",
   "execution_count": 8,
   "id": "40df5a4d",
   "metadata": {},
   "outputs": [
    {
     "name": "stdout",
     "output_type": "stream",
     "text": [
      "17 22 6 10 27 16 19 19 2 12 \n",
      "\n",
      "T H T H H T H T H H "
     ]
    }
   ],
   "source": [
    "import random\n",
    "def rand_x(range_x):\n",
    "    for _ in range(range_x):\n",
    "        print(random.randrange(1,30), end=\" \")\n",
    "    print(\"\\n\")\n",
    "    for _ in range(range_x):\n",
    "        print ('T' if random.randrange(2) == 0 else 'H', end = ' ')\n",
    "\n",
    "range_x = 10\n",
    "rand_x(range_x)"
   ]
  },
  {
   "cell_type": "code",
   "execution_count": 9,
   "id": "b7eacd07",
   "metadata": {},
   "outputs": [
    {
     "name": "stdout",
     "output_type": "stream",
     "text": [
      "tuple & function: \n",
      "B in x:  2\n",
      "index: 0: 1\n",
      "index: 1: 2\n",
      "index: 2: 3\n",
      "max:  3\n",
      "min:  1\n",
      "len:  3\n"
     ]
    }
   ],
   "source": [
    "#tuple & function\n",
    "print(\"tuple & function: \")\n",
    "x = (1,2,3)\n",
    "y = (5,6)\n",
    "a, b, c = x\n",
    "print(\"B in x: \", b)\n",
    "for index, i in enumerate(x):\n",
    "    print(f'index: {index}: {i}')\n",
    "print(\"max: \" ,max(x))\n",
    "print(\"min: \" ,min(x))\n",
    "print(\"len: \" ,len(x))"
   ]
  },
  {
   "cell_type": "code",
   "execution_count": 10,
   "id": "4da6e072",
   "metadata": {},
   "outputs": [
    {
     "name": "stdout",
     "output_type": "stream",
     "text": [
      "First element:  1\n",
      "slicing list:  [2, 3, 4]\n",
      "concate list:  [1, 2, 3, 4, 5, 6, 7, 8, 9, 10, 11, 12]\n",
      "modify element:  [1, 2, 999, 4, 5, 6, 7, 8, 9]\n",
      "remove element:  [1, 2, 4, 5, 6, 7, 8, 9]\n",
      "pop element:  [1, 2, 4, 5, 7, 8, 9]\n",
      "insert element:  [1, 2, 999, 4, 5, 7, 8, 9]\n",
      "append element:  [1, 2, 999, 4, 5, 7, 8, 9, 22]\n",
      "extend element:  [1, 2, 999, 4, 5, 7, 8, 9, 22, 23, 24, 25]\n",
      "legnth list:  12\n",
      "sort list:  [1, 2, 4, 5, 7, 8, 9, 22, 23, 24, 25, 999]\n",
      "reverse list:  [999, 25, 24, 23, 22, 9, 8, 7, 5, 4, 2, 1]\n"
     ]
    }
   ],
   "source": [
    "#list operators\n",
    "list1 = [1,2,3,4,5,6,7,8,9]\n",
    "print(\"First element: \", list1[0])\n",
    "sub = list1[1:4]\n",
    "print(\"slicing list: \", sub)\n",
    "concate = list1 + [10,11,12]\n",
    "print(\"concate list: \", concate)\n",
    "list1[2] = 999\n",
    "print(\"modify element: \", list1)\n",
    "list1.remove(999)\n",
    "print(\"remove element: \", list1)\n",
    "list1.pop(4)\n",
    "print(\"pop element: \", list1)\n",
    "list1.insert(2,999)\n",
    "print(\"insert element: \", list1)\n",
    "list1.append(22)\n",
    "print(\"append element: \", list1)\n",
    "list1.extend([23,24,25])\n",
    "print(\"extend element: \", list1)\n",
    "print(\"legnth list: \", len(list1))\n",
    "print(\"sort list: \", list(sorted(list1)))\n",
    "print(\"reverse list: \", list(reversed(sorted(list1))))"
   ]
  },
  {
   "cell_type": "code",
   "execution_count": 11,
   "id": "6fbae212",
   "metadata": {},
   "outputs": [
    {
     "name": "stdout",
     "output_type": "stream",
     "text": [
      "2022 3\n",
      "3.57 2\n",
      "Smith 1\n",
      "Mary 0\n"
     ]
    }
   ],
   "source": [
    "student = ['Mary', 'Smith', 3.57, 2022]\n",
    "student\n",
    "\n",
    "\n",
    "#iterating over the lists\n",
    "for i in range (len(student)-1,-1,-1):\n",
    "    print (student[i], i)\n"
   ]
  },
  {
   "cell_type": "code",
   "execution_count": 12,
   "id": "e1a688ce",
   "metadata": {},
   "outputs": [
    {
     "name": "stdout",
     "output_type": "stream",
     "text": [
      "new list:  [1, 2, 3, 4, 5]\n",
      "cube list:  [1, 8, 27, 64, 125]\n",
      "divide by 2 list:  [8, 64]\n",
      "color caps list:  ['RED', 'ORANGE', 'YELLOW', 'GREEN', 'BLUE']\n",
      "color lower list:  ['red', 'orange', 'yellow', 'green', 'blue']\n",
      "divide by 3 list:  [27]\n"
     ]
    }
   ],
   "source": [
    "\n",
    "#creating new lists\n",
    "new_list = [list for list in range(1,6)]\n",
    "print(\"new list: \", new_list)\n",
    "\n",
    "#mapping the data\n",
    "cube_list = [item **3 for item in new_list]\n",
    "print(\"cube list: \", cube_list)\n",
    "\n",
    "#filtering the data\n",
    "divide_by_two = [item for item in cube_list if item %2 ==0]\n",
    "print(\"divide by 2 list: \", divide_by_two)\n",
    "\n",
    "colors = ['red', 'orange', 'yellow', 'green', 'blue']\n",
    "colors_caps = [color.upper() for color in colors]\n",
    "print(\"color caps list: \", colors_caps)\n",
    "\n",
    "color_lower = [color.lower() for color in colors]\n",
    "print(\"color lower list: \", color_lower)\n",
    "\n",
    "divide_by_3 = [item for item in cube_list if item%3 == 0]\n",
    "print(\"divide by 3 list: \", divide_by_3)"
   ]
  },
  {
   "cell_type": "code",
   "execution_count": 13,
   "id": "41e39ca7",
   "metadata": {},
   "outputs": [
    {
     "name": "stdout",
     "output_type": "stream",
     "text": [
      "Name=Bob; GPA=3.5\n",
      "Name=Sue; GPA=4.0\n",
      "Name=Amanda; GPA=3.75\n"
     ]
    }
   ],
   "source": [
    "#combining iterators\n",
    "\n",
    "students = ['Bob', 'Sue', 'Amanda']\n",
    "cgpa = [3.5, 4.0, 3.75]\n",
    "for name, gpa in zip(students, cgpa):\n",
    "    print(f'Name={name}; GPA={gpa}')"
   ]
  },
  {
   "cell_type": "code",
   "execution_count": 14,
   "id": "87becfb1",
   "metadata": {},
   "outputs": [
    {
     "name": "stdout",
     "output_type": "stream",
     "text": [
      "\n",
      "Task Management System:\n",
      "1. Add a new task\n",
      "2. Display current tasks\n",
      "3. Mark a task as completed\n",
      "4. Display completed tasks\n",
      "5. Quit\n",
      "Enter choice:1\n",
      "Add Task: new task 1\n",
      "\n",
      "Task Management System:\n",
      "1. Add a new task\n",
      "2. Display current tasks\n",
      "3. Mark a task as completed\n",
      "4. Display completed tasks\n",
      "5. Quit\n",
      "Enter choice:1\n",
      "Add Task: new task 2\n",
      "\n",
      "Task Management System:\n",
      "1. Add a new task\n",
      "2. Display current tasks\n",
      "3. Mark a task as completed\n",
      "4. Display completed tasks\n",
      "5. Quit\n",
      "Enter choice:2\n",
      "0 . new task 1\n",
      "1 . new task 2\n",
      "\n",
      "Task Management System:\n",
      "1. Add a new task\n",
      "2. Display current tasks\n",
      "3. Mark a task as completed\n",
      "4. Display completed tasks\n",
      "5. Quit\n",
      "Enter choice:3\n",
      "Current Tasks: \n",
      "\n",
      "0 . new task 1\n",
      "1 . new task 2\n",
      "If you want to mark the task completed then Enter the task number: \n",
      "Enter the completed task number: 0\n",
      "Task is completed.\n",
      "\n",
      "\n",
      "Task Management System:\n",
      "1. Add a new task\n",
      "2. Display current tasks\n",
      "3. Mark a task as completed\n",
      "4. Display completed tasks\n",
      "5. Quit\n",
      "Enter choice:2\n",
      "0 . new task 2\n",
      "\n",
      "Task Management System:\n",
      "1. Add a new task\n",
      "2. Display current tasks\n",
      "3. Mark a task as completed\n",
      "4. Display completed tasks\n",
      "5. Quit\n",
      "Enter choice:4\n",
      "0 . new task 1\n",
      "\n",
      "Task Management System:\n",
      "1. Add a new task\n",
      "2. Display current tasks\n",
      "3. Mark a task as completed\n",
      "4. Display completed tasks\n",
      "5. Quit\n",
      "Enter choice:5\n"
     ]
    }
   ],
   "source": [
    "def Task_management_system():\n",
    "    new_task = []\n",
    "    completed_task = []\n",
    "    \n",
    "    while True:\n",
    "        print(\"\\nTask Management System:\")\n",
    "        print(\"1. Add a new task\")\n",
    "        print(\"2. Display current tasks\")\n",
    "        print(\"3. Mark a task as completed\")\n",
    "        print(\"4. Display completed tasks\")\n",
    "        print(\"5. Quit\")\n",
    "        \n",
    "        choice = input(\"Enter choice:\" )\n",
    "        \n",
    "        if choice == \"1\":\n",
    "            task = input(\"Add Task: \")\n",
    "            new_task.append(task)\n",
    "        \n",
    "        elif choice == \"2\":\n",
    "            for i, list in enumerate(new_task):\n",
    "                print(i,\".\", list);\n",
    "                \n",
    "        elif choice == \"3\":\n",
    "            print(\"Current Tasks: \\n\")\n",
    "            for i, list in enumerate(new_task):\n",
    "                print(i,\".\", list);\n",
    "            print(\"If you want to mark the task completed then Enter the task number: \")\n",
    "            complete = int(input(\"Enter the completed task number: \"))\n",
    "            complete_task = new_task.pop(complete);\n",
    "            completed_task.append(complete_task);\n",
    "            print(\"Task is completed.\\n\");\n",
    "        \n",
    "        elif choice == \"4\":\n",
    "            for i, list in enumerate(completed_task):\n",
    "                print(i,\".\", list);\n",
    "\n",
    "        elif choice == \"5\":\n",
    "            break;\n",
    "            \n",
    "        else:\n",
    "            print(\"Input is wrong\");\n",
    "    \n",
    "        \n",
    "        \n",
    "\n",
    "Task_management_system();"
   ]
  },
  {
   "cell_type": "code",
   "execution_count": 40,
   "id": "1e9956f8",
   "metadata": {},
   "outputs": [
    {
     "name": "stdout",
     "output_type": "stream",
     "text": [
      "1 2 3 \n",
      "4 5 6 \n",
      "Fives => \n",
      " [[5 5 5 5 5]\n",
      " [5 5 5 5 5]\n",
      " [5 5 5 5 5]\n",
      " [5 5 5 5 5]]\n"
     ]
    }
   ],
   "source": [
    "#numpy\n",
    "import numpy as np\n",
    "\n",
    "list1 = [1,2,3,4,5]\n",
    "arr1 = np.array(list1)\n",
    "arr1\n",
    "\n",
    "arr2_ones = np.ones((2,2))\n",
    "arr2_ones\n",
    "\n",
    "arr3_zeros = np.zeros((2,2))\n",
    "arr3_zeros\n",
    "\n",
    "arr4_empty = np.empty((2,2))\n",
    "arr4_empty\n",
    "\n",
    "arr4_arange = np.arange(10)\n",
    "arr4_arange\n",
    "\n",
    "arr5_linspace = np.linspace(0, 1, 5)\n",
    "arr5_linspace\n",
    "\n",
    "arr6_random = np.random.rand(1,6,1)\n",
    "arr6_random\n",
    "\n",
    "arr4_empty.ndim\n",
    "arr4_empty.size\n",
    "arr4_empty.shape\n",
    "\n",
    "arr_exp = [[1,2,3],[4,5,6]]\n",
    "for i in arr_exp:\n",
    "    for j in i:\n",
    "        print(j, end = \" \")\n",
    "        \n",
    "    print()\n",
    "\n",
    "fives = np.full((4,5), 5)\n",
    "print (\"Fives => \\n\", fives)"
   ]
  },
  {
   "cell_type": "code",
   "execution_count": 101,
   "id": "b9991543",
   "metadata": {},
   "outputs": [
    {
     "name": "stdout",
     "output_type": "stream",
     "text": [
      "[[70 42 51 67 53 61]\n",
      " [46 69 45 56 48 59]\n",
      " [41 91 74 47 80 92]\n",
      " [62 75 86 77 89 86]\n",
      " [50 51 90 67 56 78]\n",
      " [64 86 91 61 60 43]\n",
      " [94 43 92 49 43 75]\n",
      " [84 71 65 84 95 97]\n",
      " [87 53 58 50 86 72]\n",
      " [77 48 96 42 90 47]]\n",
      "[67.5 62.9 74.8 60.  70.  71. ]\n"
     ]
    },
    {
     "data": {
      "text/plain": [
       "(6, 3)"
      ]
     },
     "execution_count": 101,
     "metadata": {},
     "output_type": "execute_result"
    }
   ],
   "source": [
    "#generate exam marks for 10 students \n",
    "#for 6 courses and perform following tasks\n",
    "exam = np.random.randint(40, 100, 60).reshape(10,6)\n",
    "print(exam)\n",
    "avg_student = exam.mean(axis = 1)\n",
    "avg_course = exam.mean(axis = 0)\n",
    "print(avg_course)\n",
    "#find averge marks student wise and course wise.\n",
    "#find the max marks for each course.\n",
    "#find the max makrs for each student.\n",
    "max_student = exam.max(axis = 1)\n",
    "max_course = exam.max(axis = 0)\n",
    "#find the average of top performing student overall\n",
    "max_avg_student = max(exam.mean(axis = 1))\n",
    "#t1 => select exams marks for alternating students\n",
    "alternating_students = exam[4:, 0:6:2]\n",
    "alternating_students\n",
    "alternating_students.shape\n",
    "#t2 => select marks for alternating courses for 5th student"
   ]
  },
  {
   "cell_type": "code",
   "execution_count": 112,
   "id": "09c769f8",
   "metadata": {},
   "outputs": [
    {
     "name": "stdout",
     "output_type": "stream",
     "text": [
      "array2:  [20 12 26 24 23 30 14 12 28] \n",
      "\n",
      "arr1: \n",
      " [[5 5 5 5 5]\n",
      " [5 5 5 5 5]\n",
      " [5 5 5 5 5]\n",
      " [5 5 5 5 5]] \n",
      "\n",
      "arr2: \n",
      " [[4 4 4 4 4]\n",
      " [4 4 4 4 4]\n",
      " [4 4 4 4 4]\n",
      " [4 4 4 4 4]] \n",
      "\n",
      "arr3: \n",
      " [[20 20 20 20 20]\n",
      " [20 20 20 20 20]\n",
      " [20 20 20 20 20]\n",
      " [20 20 20 20 20]] \n",
      "\n",
      "arr4: \n",
      " [[1, 2, 3], [4, 5, 6], [7, 8, 9]] \n",
      "\n",
      "arr5: \n",
      " 6.66133814775094e-16 \n",
      "\n",
      "arr6: \n",
      " [[-4.50359963e+15  9.00719925e+15 -4.50359963e+15]\n",
      " [ 9.00719925e+15 -1.80143985e+16  9.00719925e+15]\n",
      " [-4.50359963e+15  9.00719925e+15 -4.50359963e+15]] \n",
      "\n",
      "arr7: \n",
      " [[ 1  2  3]\n",
      " [ 4  5 20]\n",
      " [ 7  8  9]] \n",
      "\n",
      "[[84 12 16 28 54]\n",
      " [18 13 20 98 54]\n",
      " [14 23 34  7 20]\n",
      " [ 4 48 86 98 22]\n",
      " [54 38  4 85 72]\n",
      " [97 65 24 30 34]\n",
      " [73 16 12 77  1]\n",
      " [91 54 99 24 97]\n",
      " [54 93 41 11 57]\n",
      " [70 88 40  6 80]]\n",
      "[97 93 99 98 97]\n",
      "46.8\n",
      "31.67964646267379\n"
     ]
    }
   ],
   "source": [
    "#numpy example questions:\n",
    "\n",
    "#question no 1:\n",
    "list = [random.randint(1,30) for _ in range(15)]\n",
    "array = np.array(list)\n",
    "array2 = array[array > 10]\n",
    "print(\"array2: \",array2, \"\\n\")\n",
    "\n",
    "#Question no 2:\n",
    "arr1 = np.full((4,5),5)\n",
    "arr2 = np.full((4,5),4)\n",
    "arr3 = arr1 * arr2\n",
    "print(\"arr1: \\n\",arr1, \"\\n\")\n",
    "print(\"arr2: \\n\",arr2, \"\\n\")\n",
    "print(\"arr3: \\n\",arr3, \"\\n\")\n",
    "\n",
    "#Question no 3:\n",
    "arr4 = [[1,2,3],\n",
    "        [4,5,6],\n",
    "        [7,8,9]]\n",
    "arr5 = np.linalg.det(arr4)\n",
    "arr6 = np.linalg.inv(arr4)\n",
    "print(\"arr4: \\n\",arr4, \"\\n\")\n",
    "print(\"arr5: \\n\",arr5, \"\\n\")\n",
    "print(\"arr6: \\n\",arr6, \"\\n\")\n",
    "\n",
    "#Question no 3\n",
    "arr7 = np.array([[1, 2, 3],\n",
    "                 [4, 5, 6],\n",
    "                 [7, 8, 9]])\n",
    "row= np.array([1])\n",
    "column= np.array([2])\n",
    "new= 20\n",
    "arr7[row[:, np.newaxis], column] = new\n",
    "print(\"arr7: \\n\",arr7, \"\\n\")\n",
    "\n",
    "#Question no 4:\n",
    "arr8 = np.random.randint(1,100,50).reshape(10,5)\n",
    "max_Arr = arr8.max(axis = 0)\n",
    "mean_arr = arr8.mean()\n",
    "std_arr = arr8.std()\n",
    "print(arr8)\n",
    "print(max_Arr)\n",
    "print(mean_arr)\n",
    "print(std_arr)"
   ]
  },
  {
   "cell_type": "code",
   "execution_count": 17,
   "id": "7afa9b8b",
   "metadata": {},
   "outputs": [
    {
     "data": {
      "text/html": [
       "<div>\n",
       "<style scoped>\n",
       "    .dataframe tbody tr th:only-of-type {\n",
       "        vertical-align: middle;\n",
       "    }\n",
       "\n",
       "    .dataframe tbody tr th {\n",
       "        vertical-align: top;\n",
       "    }\n",
       "\n",
       "    .dataframe thead th {\n",
       "        text-align: right;\n",
       "    }\n",
       "</style>\n",
       "<table border=\"1\" class=\"dataframe\">\n",
       "  <thead>\n",
       "    <tr style=\"text-align: right;\">\n",
       "      <th></th>\n",
       "      <th>Mun</th>\n",
       "      <th>Meh</th>\n",
       "      <th>Ali</th>\n",
       "    </tr>\n",
       "  </thead>\n",
       "  <tbody>\n",
       "    <tr>\n",
       "      <th>0</th>\n",
       "      <td>65</td>\n",
       "      <td>44</td>\n",
       "      <td>50</td>\n",
       "    </tr>\n",
       "    <tr>\n",
       "      <th>1</th>\n",
       "      <td>49</td>\n",
       "      <td>43</td>\n",
       "      <td>81</td>\n",
       "    </tr>\n",
       "    <tr>\n",
       "      <th>2</th>\n",
       "      <td>98</td>\n",
       "      <td>70</td>\n",
       "      <td>52</td>\n",
       "    </tr>\n",
       "    <tr>\n",
       "      <th>3</th>\n",
       "      <td>87</td>\n",
       "      <td>56</td>\n",
       "      <td>72</td>\n",
       "    </tr>\n",
       "    <tr>\n",
       "      <th>4</th>\n",
       "      <td>68</td>\n",
       "      <td>72</td>\n",
       "      <td>66</td>\n",
       "    </tr>\n",
       "  </tbody>\n",
       "</table>\n",
       "</div>"
      ],
      "text/plain": [
       "   Mun  Meh  Ali\n",
       "0   65   44   50\n",
       "1   49   43   81\n",
       "2   98   70   52\n",
       "3   87   56   72\n",
       "4   68   72   66"
      ]
     },
     "execution_count": 17,
     "metadata": {},
     "output_type": "execute_result"
    }
   ],
   "source": [
    "#pandas\n",
    "import pandas as pd\n",
    "\n",
    "marks={\"Mun\": np.random.randint(40,100,5), \"Meh\": np.random.randint(40,100,5), \"Ali\": np.random.randint(40,100,5)}\n",
    "grades = pd.DataFrame(marks)\n",
    "grades"
   ]
  },
  {
   "cell_type": "code",
   "execution_count": 18,
   "id": "0e515014",
   "metadata": {},
   "outputs": [
    {
     "data": {
      "text/html": [
       "<div>\n",
       "<style scoped>\n",
       "    .dataframe tbody tr th:only-of-type {\n",
       "        vertical-align: middle;\n",
       "    }\n",
       "\n",
       "    .dataframe tbody tr th {\n",
       "        vertical-align: top;\n",
       "    }\n",
       "\n",
       "    .dataframe thead th {\n",
       "        text-align: right;\n",
       "    }\n",
       "</style>\n",
       "<table border=\"1\" class=\"dataframe\">\n",
       "  <thead>\n",
       "    <tr style=\"text-align: right;\">\n",
       "      <th></th>\n",
       "      <th>Mun</th>\n",
       "      <th>Meh</th>\n",
       "      <th>Ali</th>\n",
       "    </tr>\n",
       "  </thead>\n",
       "  <tbody>\n",
       "    <tr>\n",
       "      <th>se101</th>\n",
       "      <td>65</td>\n",
       "      <td>44</td>\n",
       "      <td>50</td>\n",
       "    </tr>\n",
       "    <tr>\n",
       "      <th>se102</th>\n",
       "      <td>49</td>\n",
       "      <td>43</td>\n",
       "      <td>81</td>\n",
       "    </tr>\n",
       "    <tr>\n",
       "      <th>se104</th>\n",
       "      <td>98</td>\n",
       "      <td>70</td>\n",
       "      <td>52</td>\n",
       "    </tr>\n",
       "    <tr>\n",
       "      <th>se105</th>\n",
       "      <td>87</td>\n",
       "      <td>56</td>\n",
       "      <td>72</td>\n",
       "    </tr>\n",
       "    <tr>\n",
       "      <th>se103</th>\n",
       "      <td>68</td>\n",
       "      <td>72</td>\n",
       "      <td>66</td>\n",
       "    </tr>\n",
       "  </tbody>\n",
       "</table>\n",
       "</div>"
      ],
      "text/plain": [
       "       Mun  Meh  Ali\n",
       "se101   65   44   50\n",
       "se102   49   43   81\n",
       "se104   98   70   52\n",
       "se105   87   56   72\n",
       "se103   68   72   66"
      ]
     },
     "execution_count": 18,
     "metadata": {},
     "output_type": "execute_result"
    }
   ],
   "source": [
    "grades.index = {\"se101\", \"se102\", \"se103\", \"se104\", \"se105\"}\n",
    "grades"
   ]
  },
  {
   "cell_type": "code",
   "execution_count": 33,
   "id": "225e1964",
   "metadata": {},
   "outputs": [
    {
     "data": {
      "text/plain": [
       "<Axes: >"
      ]
     },
     "execution_count": 33,
     "metadata": {},
     "output_type": "execute_result"
    },
    {
     "data": {
      "image/png": "[encoded data removed]",
      "text/plain": [
       "<Figure size 640x480 with 1 Axes>"
      ]
     },
     "metadata": {},
     "output_type": "display_data"
    }
   ],
   "source": [
    "grades.plot(kind='bar')"
   ]
  },
  {
   "cell_type": "code",
   "execution_count": 20,
   "id": "4a6c79bf",
   "metadata": {},
   "outputs": [
    {
     "data": {
      "text/plain": [
       "<Axes: >"
      ]
     },
     "execution_count": 20,
     "metadata": {},
     "output_type": "execute_result"
    },
    {
     "data": {
      "image/png": "[encoded data removed]",
      "text/plain": [
       "<Figure size 640x480 with 1 Axes>"
      ]
     },
     "metadata": {},
     "output_type": "display_data"
    }
   ],
   "source": [
    "grades.Mun.plot(kind = 'bar')"
   ]
  },
  {
   "cell_type": "code",
   "execution_count": 21,
   "id": "0dd3e449",
   "metadata": {},
   "outputs": [
    {
     "name": "stdout",
     "output_type": "stream",
     "text": [
      "   Student_ID     Name Course_Code       Course_Name  Max_Students  \\\n",
      "0           1    Alice      CSC101  Computer Science             2   \n",
      "1           4    David      CSC101  Computer Science             2   \n",
      "2           2      Bob      MAT201    Linear Algebra             3   \n",
      "3           6    Frank      MAT201    Linear Algebra             3   \n",
      "4           3  Charlie      PHY301    Modern Physics             1   \n",
      "5           5      Eva      PHY301    Modern Physics             1   \n",
      "\n",
      "  Enrollement status  \n",
      "0           Enrolled  \n",
      "1           Enrolled  \n",
      "2           Enrolled  \n",
      "3           Enrolled  \n",
      "4           Enrolled  \n",
      "5           Enrolled  \n"
     ]
    }
   ],
   "source": [
    "#Dataframe Example\n",
    "import pandas as pd\n",
    "\n",
    "def enrollment_status(df_courses, df_students):\n",
    "    \n",
    "    result = pd.merge(df_students, df_courses, on='Course_Code') \n",
    "    \n",
    "    result[\"Enrollement status\"] = \"Enrolled\";\n",
    "    print(result)\n",
    "    \n",
    "\n",
    "data_students = {\n",
    "    'Student_ID': [1, 2, 3, 4, 5, 6],\n",
    "    'Name': ['Alice', 'Bob', 'Charlie', 'David', 'Eva', 'Frank'],\n",
    "    'Course_Code': ['CSC101', 'MAT201', 'PHY301', 'CSC101', 'PHY301', 'MAT201']\n",
    "}\n",
    "\n",
    "df_students = pd.DataFrame(data_students)\n",
    "\n",
    "data_courses = {\n",
    "    'Course_Code': ['CSC101', 'MAT201', 'PHY301'],\n",
    "    'Course_Name': ['Computer Science', 'Linear Algebra', 'Modern Physics'],\n",
    "    'Max_Students': [2, 3, 1]\n",
    "}\n",
    "\n",
    "df_courses = pd.DataFrame(data_courses)\n",
    "\n",
    "enrollment_status(df_courses, df_students);\n"
   ]
  },
  {
   "cell_type": "code",
   "execution_count": 156,
   "id": "bd8b0513",
   "metadata": {},
   "outputs": [
    {
     "name": "stdout",
     "output_type": "stream",
     "text": [
      "  Type         Name  Quantity  Price\n",
      "0    A  Electronics        10    500\n",
      "1    B     Clothing        20     30\n",
      "2    C  Electronics        15    800\n",
      "3    D  Electronics         8   1200\n",
      "4    E     Clothing        25     25\n",
      "  Type         Name  Quantity  Price  total_sales\n",
      "0    A  Electronics        10    500         5000\n",
      "1    B     Clothing        20     30          600\n",
      "2    C  Electronics        15    800        12000\n",
      "3    D  Electronics         8   1200         9600\n",
      "4    E     Clothing        25     25          625\n",
      "5    F        Books        30     15          450\n",
      "6    G        Books        12     20          240\n",
      "7    H  Electronics        18   1000        18000\n",
      "8    I        Books        22     18          396\n",
      "9    J     Clothing        16     35          560\n",
      "            Name\n",
      "total_sales     \n",
      "5000         NaN\n",
      "600          NaN\n",
      "12000        NaN\n",
      "9600         NaN\n",
      "625          NaN\n",
      "450          NaN\n",
      "240          NaN\n",
      "18000        NaN\n",
      "396          NaN\n",
      "560          NaN\n"
     ]
    }
   ],
   "source": [
    "import pandas as pd\n",
    "sales_data = [\n",
    "    (\"A\", \"Electronics\", 10, 500),\n",
    "    (\"B\", \"Clothing\", 20, 30),\n",
    "    (\"C\", \"Electronics\", 15, 800),\n",
    "    (\"D\", \"Electronics\", 8, 1200),\n",
    "    (\"E\", \"Clothing\", 25, 25),\n",
    "    (\"F\", \"Books\", 30, 15),\n",
    "    (\"G\", \"Books\", 12, 20),\n",
    "    (\"H\", \"Electronics\", 18, 1000),\n",
    "    (\"I\", \"Books\", 22, 18),\n",
    "    (\"J\", \"Clothing\", 16, 35),\n",
    "]\n",
    "\n",
    "sales_df = pd.DataFrame(sales_data, columns = [\"Type\", \"Name\", \"Quantity\", \"Price\"])\n",
    "\n",
    "#part 1\n",
    "print(sales_df[0:5])\n",
    "\n",
    "#part 2\n",
    "sales_df[\"total_sales\"] = sales_df[\"Quantity\"] * sales_df[\"Price\"]\n",
    "print(sales_df)\n",
    "\n",
    "#part 3\n",
    "category_sales = []\n",
    "category_sales = sales_df.groupby()\n",
    "print(category_sales)"
   ]
  },
  {
   "cell_type": "code",
   "execution_count": 22,
   "id": "76ef096d",
   "metadata": {},
   "outputs": [],
   "source": [
    "import csv"
   ]
  },
  {
   "cell_type": "code",
   "execution_count": 23,
   "id": "024a94bd",
   "metadata": {},
   "outputs": [],
   "source": [
    "with open('accounts.csv', 'w', newline='') as accounts:\n",
    "    writer = csv.writer(accounts)\n",
    "    writer.writerows([\n",
    "        [104, 'Philips', 24.56],\n",
    "        [105,'Adam', 10.23]\n",
    "    ])\n",
    "accounts.close()"
   ]
  },
  {
   "cell_type": "code",
   "execution_count": 24,
   "id": "ce8454f1",
   "metadata": {},
   "outputs": [
    {
     "name": "stdout",
     "output_type": "stream",
     "text": [
      "Account   Name         Balance\n",
      "104       Philips        24.56\n",
      "105       Adam           10.23\n"
     ]
    }
   ],
   "source": [
    "with open('accounts.csv', 'r', newline='') as accounts:\n",
    "    print(f'{\"Account\":<10}{\"Name\":<10}{\"Balance\":>10}')\n",
    "    reader = csv.reader(accounts)\n",
    "    for values in reader:\n",
    "        account, name, balance = values\n",
    "        print(f'{account:<10}{name:<10}{balance:>10}')\n",
    "accounts.close()"
   ]
  },
  {
   "cell_type": "code",
   "execution_count": 25,
   "id": "47072e13",
   "metadata": {},
   "outputs": [
    {
     "data": {
      "text/html": [
       "<div>\n",
       "<style scoped>\n",
       "    .dataframe tbody tr th:only-of-type {\n",
       "        vertical-align: middle;\n",
       "    }\n",
       "\n",
       "    .dataframe tbody tr th {\n",
       "        vertical-align: top;\n",
       "    }\n",
       "\n",
       "    .dataframe thead th {\n",
       "        text-align: right;\n",
       "    }\n",
       "</style>\n",
       "<table border=\"1\" class=\"dataframe\">\n",
       "  <thead>\n",
       "    <tr style=\"text-align: right;\">\n",
       "      <th></th>\n",
       "      <th>Account</th>\n",
       "      <th>Name</th>\n",
       "      <th>Balance</th>\n",
       "    </tr>\n",
       "  </thead>\n",
       "  <tbody>\n",
       "    <tr>\n",
       "      <th>0</th>\n",
       "      <td>104</td>\n",
       "      <td>Philips</td>\n",
       "      <td>24.56</td>\n",
       "    </tr>\n",
       "    <tr>\n",
       "      <th>1</th>\n",
       "      <td>105</td>\n",
       "      <td>Adam</td>\n",
       "      <td>10.23</td>\n",
       "    </tr>\n",
       "  </tbody>\n",
       "</table>\n",
       "</div>"
      ],
      "text/plain": [
       "   Account     Name  Balance\n",
       "0      104  Philips    24.56\n",
       "1      105     Adam    10.23"
      ]
     },
     "execution_count": 25,
     "metadata": {},
     "output_type": "execute_result"
    }
   ],
   "source": [
    "df = pd.read_csv('accounts.csv', names = ['Account', 'Name', 'Balance'])\n",
    "df"
   ]
  },
  {
   "cell_type": "code",
   "execution_count": 26,
   "id": "f29e969b",
   "metadata": {},
   "outputs": [
    {
     "data": {
      "text/html": [
       "<div>\n",
       "<style scoped>\n",
       "    .dataframe tbody tr th:only-of-type {\n",
       "        vertical-align: middle;\n",
       "    }\n",
       "\n",
       "    .dataframe tbody tr th {\n",
       "        vertical-align: top;\n",
       "    }\n",
       "\n",
       "    .dataframe thead th {\n",
       "        text-align: right;\n",
       "    }\n",
       "</style>\n",
       "<table border=\"1\" class=\"dataframe\">\n",
       "  <thead>\n",
       "    <tr style=\"text-align: right;\">\n",
       "      <th></th>\n",
       "      <th>Account</th>\n",
       "      <th>Name</th>\n",
       "      <th>Balance</th>\n",
       "    </tr>\n",
       "  </thead>\n",
       "  <tbody>\n",
       "    <tr>\n",
       "      <th>0</th>\n",
       "      <td>104</td>\n",
       "      <td>Philips</td>\n",
       "      <td>24.56</td>\n",
       "    </tr>\n",
       "    <tr>\n",
       "      <th>1</th>\n",
       "      <td>105</td>\n",
       "      <td>Adam</td>\n",
       "      <td>10.23</td>\n",
       "    </tr>\n",
       "  </tbody>\n",
       "</table>\n",
       "</div>"
      ],
      "text/plain": [
       "   Account     Name  Balance\n",
       "0      104  Philips    24.56\n",
       "1      105     Adam    10.23"
      ]
     },
     "execution_count": 26,
     "metadata": {},
     "output_type": "execute_result"
    }
   ],
   "source": [
    "df.to_csv('new_account.csv', index = False)\n",
    "df1 = pd.read_csv('new_account.csv')\n",
    "df1"
   ]
  },
  {
   "cell_type": "code",
   "execution_count": 27,
   "id": "a2dd4aec",
   "metadata": {},
   "outputs": [
    {
     "data": {
      "text/html": [
       "<div>\n",
       "<style scoped>\n",
       "    .dataframe tbody tr th:only-of-type {\n",
       "        vertical-align: middle;\n",
       "    }\n",
       "\n",
       "    .dataframe tbody tr th {\n",
       "        vertical-align: top;\n",
       "    }\n",
       "\n",
       "    .dataframe thead th {\n",
       "        text-align: right;\n",
       "    }\n",
       "</style>\n",
       "<table border=\"1\" class=\"dataframe\">\n",
       "  <thead>\n",
       "    <tr style=\"text-align: right;\">\n",
       "      <th></th>\n",
       "      <th>Account</th>\n",
       "      <th>Name</th>\n",
       "      <th>Balance</th>\n",
       "    </tr>\n",
       "  </thead>\n",
       "  <tbody>\n",
       "    <tr>\n",
       "      <th>0</th>\n",
       "      <td>104</td>\n",
       "      <td>Philips</td>\n",
       "      <td>24.56</td>\n",
       "    </tr>\n",
       "    <tr>\n",
       "      <th>1</th>\n",
       "      <td>105</td>\n",
       "      <td>Adam</td>\n",
       "      <td>10.23</td>\n",
       "    </tr>\n",
       "  </tbody>\n",
       "</table>\n",
       "</div>"
      ],
      "text/plain": [
       "   Account     Name  Balance\n",
       "0      104  Philips    24.56\n",
       "1      105     Adam    10.23"
      ]
     },
     "execution_count": 27,
     "metadata": {},
     "output_type": "execute_result"
    }
   ],
   "source": [
    "df1.head()"
   ]
  },
  {
   "cell_type": "code",
   "execution_count": 28,
   "id": "f1966df6",
   "metadata": {},
   "outputs": [
    {
     "data": {
      "text/html": [
       "<div>\n",
       "<style scoped>\n",
       "    .dataframe tbody tr th:only-of-type {\n",
       "        vertical-align: middle;\n",
       "    }\n",
       "\n",
       "    .dataframe tbody tr th {\n",
       "        vertical-align: top;\n",
       "    }\n",
       "\n",
       "    .dataframe thead th {\n",
       "        text-align: right;\n",
       "    }\n",
       "</style>\n",
       "<table border=\"1\" class=\"dataframe\">\n",
       "  <thead>\n",
       "    <tr style=\"text-align: right;\">\n",
       "      <th></th>\n",
       "      <th>Account</th>\n",
       "      <th>Name</th>\n",
       "      <th>Balance</th>\n",
       "    </tr>\n",
       "  </thead>\n",
       "  <tbody>\n",
       "    <tr>\n",
       "      <th>0</th>\n",
       "      <td>104</td>\n",
       "      <td>Philips</td>\n",
       "      <td>24.56</td>\n",
       "    </tr>\n",
       "    <tr>\n",
       "      <th>1</th>\n",
       "      <td>105</td>\n",
       "      <td>Adam</td>\n",
       "      <td>10.23</td>\n",
       "    </tr>\n",
       "  </tbody>\n",
       "</table>\n",
       "</div>"
      ],
      "text/plain": [
       "   Account     Name  Balance\n",
       "0      104  Philips    24.56\n",
       "1      105     Adam    10.23"
      ]
     },
     "execution_count": 28,
     "metadata": {},
     "output_type": "execute_result"
    }
   ],
   "source": [
    "df1.tail()"
   ]
  },
  {
   "cell_type": "code",
   "execution_count": 29,
   "id": "5e154353",
   "metadata": {},
   "outputs": [
    {
     "data": {
      "text/plain": [
       "count        2\n",
       "unique       2\n",
       "top       True\n",
       "freq         1\n",
       "Name: Balance, dtype: object"
      ]
     },
     "execution_count": 29,
     "metadata": {},
     "output_type": "execute_result"
    }
   ],
   "source": [
    "(df1.Balance > 20).describe()"
   ]
  },
  {
   "cell_type": "code",
   "execution_count": 30,
   "id": "89e26cb1",
   "metadata": {},
   "outputs": [
    {
     "data": {
      "text/html": [
       "<div>\n",
       "<style scoped>\n",
       "    .dataframe tbody tr th:only-of-type {\n",
       "        vertical-align: middle;\n",
       "    }\n",
       "\n",
       "    .dataframe tbody tr th {\n",
       "        vertical-align: top;\n",
       "    }\n",
       "\n",
       "    .dataframe thead th {\n",
       "        text-align: right;\n",
       "    }\n",
       "</style>\n",
       "<table border=\"1\" class=\"dataframe\">\n",
       "  <thead>\n",
       "    <tr style=\"text-align: right;\">\n",
       "      <th></th>\n",
       "      <th>Account</th>\n",
       "      <th>Name</th>\n",
       "      <th>Balance</th>\n",
       "    </tr>\n",
       "  </thead>\n",
       "  <tbody>\n",
       "    <tr>\n",
       "      <th>0</th>\n",
       "      <td>104</td>\n",
       "      <td>Philips</td>\n",
       "      <td>24.56</td>\n",
       "    </tr>\n",
       "  </tbody>\n",
       "</table>\n",
       "</div>"
      ],
      "text/plain": [
       "   Account     Name  Balance\n",
       "0      104  Philips    24.56"
      ]
     },
     "execution_count": 30,
     "metadata": {},
     "output_type": "execute_result"
    }
   ],
   "source": [
    "df1[df1.Balance > 20]"
   ]
  },
  {
   "cell_type": "code",
   "execution_count": 31,
   "id": "9fcf5f26",
   "metadata": {},
   "outputs": [
    {
     "data": {
      "text/html": [
       "<div>\n",
       "<style scoped>\n",
       "    .dataframe tbody tr th:only-of-type {\n",
       "        vertical-align: middle;\n",
       "    }\n",
       "\n",
       "    .dataframe tbody tr th {\n",
       "        vertical-align: top;\n",
       "    }\n",
       "\n",
       "    .dataframe thead th {\n",
       "        text-align: right;\n",
       "    }\n",
       "</style>\n",
       "<table border=\"1\" class=\"dataframe\">\n",
       "  <thead>\n",
       "    <tr style=\"text-align: right;\">\n",
       "      <th></th>\n",
       "      <th>Account</th>\n",
       "      <th>Name</th>\n",
       "      <th>Balance</th>\n",
       "    </tr>\n",
       "  </thead>\n",
       "  <tbody>\n",
       "    <tr>\n",
       "      <th>0</th>\n",
       "      <td>104</td>\n",
       "      <td>Philips</td>\n",
       "      <td>24.56</td>\n",
       "    </tr>\n",
       "    <tr>\n",
       "      <th>1</th>\n",
       "      <td>105</td>\n",
       "      <td>Adam</td>\n",
       "      <td>10.23</td>\n",
       "    </tr>\n",
       "  </tbody>\n",
       "</table>\n",
       "</div>"
      ],
      "text/plain": [
       "   Account     Name  Balance\n",
       "0      104  Philips    24.56\n",
       "1      105     Adam    10.23"
      ]
     },
     "execution_count": 31,
     "metadata": {},
     "output_type": "execute_result"
    }
   ],
   "source": [
    "df2 = df1\n",
    "df2.add(df1, fill_value=0)\n",
    "df2"
   ]
  },
  {
   "cell_type": "code",
   "execution_count": 32,
   "id": "b3280266",
   "metadata": {},
   "outputs": [
    {
     "ename": "TypeError",
     "evalue": "'>=' not supported between instances of 'int' and 'str'",
     "output_type": "error",
     "traceback": [
      "\u001b[1;31m---------------------------------------------------------------------------\u001b[0m",
      "\u001b[1;31mTypeError\u001b[0m                                 Traceback (most recent call last)",
      "Cell \u001b[1;32mIn[32], line 4\u001b[0m\n\u001b[0;32m      1\u001b[0m \u001b[38;5;28;01mdef\u001b[39;00m \u001b[38;5;21mf\u001b[39m(x):\n\u001b[0;32m      2\u001b[0m     \u001b[38;5;28;01mreturn\u001b[39;00m x\u001b[38;5;241m.\u001b[39mmax() \u001b[38;5;241m-\u001b[39m x\u001b[38;5;241m.\u001b[39mmin()\n\u001b[1;32m----> 4\u001b[0m df2\u001b[38;5;241m.\u001b[39mapply(f, axis\u001b[38;5;241m=\u001b[39m\u001b[38;5;241m1\u001b[39m)\n",
      "File \u001b[1;32m~\\anaconda3\\Lib\\site-packages\\pandas\\core\\frame.py:9568\u001b[0m, in \u001b[0;36mDataFrame.apply\u001b[1;34m(self, func, axis, raw, result_type, args, **kwargs)\u001b[0m\n\u001b[0;32m   9557\u001b[0m \u001b[38;5;28;01mfrom\u001b[39;00m \u001b[38;5;21;01mpandas\u001b[39;00m\u001b[38;5;21;01m.\u001b[39;00m\u001b[38;5;21;01mcore\u001b[39;00m\u001b[38;5;21;01m.\u001b[39;00m\u001b[38;5;21;01mapply\u001b[39;00m \u001b[38;5;28;01mimport\u001b[39;00m frame_apply\n\u001b[0;32m   9559\u001b[0m op \u001b[38;5;241m=\u001b[39m frame_apply(\n\u001b[0;32m   9560\u001b[0m     \u001b[38;5;28mself\u001b[39m,\n\u001b[0;32m   9561\u001b[0m     func\u001b[38;5;241m=\u001b[39mfunc,\n\u001b[1;32m   (...)\u001b[0m\n\u001b[0;32m   9566\u001b[0m     kwargs\u001b[38;5;241m=\u001b[39mkwargs,\n\u001b[0;32m   9567\u001b[0m )\n\u001b[1;32m-> 9568\u001b[0m \u001b[38;5;28;01mreturn\u001b[39;00m op\u001b[38;5;241m.\u001b[39mapply()\u001b[38;5;241m.\u001b[39m__finalize__(\u001b[38;5;28mself\u001b[39m, method\u001b[38;5;241m=\u001b[39m\u001b[38;5;124m\"\u001b[39m\u001b[38;5;124mapply\u001b[39m\u001b[38;5;124m\"\u001b[39m)\n",
      "File \u001b[1;32m~\\anaconda3\\Lib\\site-packages\\pandas\\core\\apply.py:764\u001b[0m, in \u001b[0;36mFrameApply.apply\u001b[1;34m(self)\u001b[0m\n\u001b[0;32m    761\u001b[0m \u001b[38;5;28;01melif\u001b[39;00m \u001b[38;5;28mself\u001b[39m\u001b[38;5;241m.\u001b[39mraw:\n\u001b[0;32m    762\u001b[0m     \u001b[38;5;28;01mreturn\u001b[39;00m \u001b[38;5;28mself\u001b[39m\u001b[38;5;241m.\u001b[39mapply_raw()\n\u001b[1;32m--> 764\u001b[0m \u001b[38;5;28;01mreturn\u001b[39;00m \u001b[38;5;28mself\u001b[39m\u001b[38;5;241m.\u001b[39mapply_standard()\n",
      "File \u001b[1;32m~\\anaconda3\\Lib\\site-packages\\pandas\\core\\apply.py:891\u001b[0m, in \u001b[0;36mFrameApply.apply_standard\u001b[1;34m(self)\u001b[0m\n\u001b[0;32m    890\u001b[0m \u001b[38;5;28;01mdef\u001b[39;00m \u001b[38;5;21mapply_standard\u001b[39m(\u001b[38;5;28mself\u001b[39m):\n\u001b[1;32m--> 891\u001b[0m     results, res_index \u001b[38;5;241m=\u001b[39m \u001b[38;5;28mself\u001b[39m\u001b[38;5;241m.\u001b[39mapply_series_generator()\n\u001b[0;32m    893\u001b[0m     \u001b[38;5;66;03m# wrap results\u001b[39;00m\n\u001b[0;32m    894\u001b[0m     \u001b[38;5;28;01mreturn\u001b[39;00m \u001b[38;5;28mself\u001b[39m\u001b[38;5;241m.\u001b[39mwrap_results(results, res_index)\n",
      "File \u001b[1;32m~\\anaconda3\\Lib\\site-packages\\pandas\\core\\apply.py:907\u001b[0m, in \u001b[0;36mFrameApply.apply_series_generator\u001b[1;34m(self)\u001b[0m\n\u001b[0;32m    904\u001b[0m \u001b[38;5;28;01mwith\u001b[39;00m option_context(\u001b[38;5;124m\"\u001b[39m\u001b[38;5;124mmode.chained_assignment\u001b[39m\u001b[38;5;124m\"\u001b[39m, \u001b[38;5;28;01mNone\u001b[39;00m):\n\u001b[0;32m    905\u001b[0m     \u001b[38;5;28;01mfor\u001b[39;00m i, v \u001b[38;5;129;01min\u001b[39;00m \u001b[38;5;28menumerate\u001b[39m(series_gen):\n\u001b[0;32m    906\u001b[0m         \u001b[38;5;66;03m# ignore SettingWithCopy here in case the user mutates\u001b[39;00m\n\u001b[1;32m--> 907\u001b[0m         results[i] \u001b[38;5;241m=\u001b[39m \u001b[38;5;28mself\u001b[39m\u001b[38;5;241m.\u001b[39mf(v)\n\u001b[0;32m    908\u001b[0m         \u001b[38;5;28;01mif\u001b[39;00m \u001b[38;5;28misinstance\u001b[39m(results[i], ABCSeries):\n\u001b[0;32m    909\u001b[0m             \u001b[38;5;66;03m# If we have a view on v, we need to make a copy because\u001b[39;00m\n\u001b[0;32m    910\u001b[0m             \u001b[38;5;66;03m#  series_generator will swap out the underlying data\u001b[39;00m\n\u001b[0;32m    911\u001b[0m             results[i] \u001b[38;5;241m=\u001b[39m results[i]\u001b[38;5;241m.\u001b[39mcopy(deep\u001b[38;5;241m=\u001b[39m\u001b[38;5;28;01mFalse\u001b[39;00m)\n",
      "Cell \u001b[1;32mIn[32], line 2\u001b[0m, in \u001b[0;36mf\u001b[1;34m(x)\u001b[0m\n\u001b[0;32m      1\u001b[0m \u001b[38;5;28;01mdef\u001b[39;00m \u001b[38;5;21mf\u001b[39m(x):\n\u001b[1;32m----> 2\u001b[0m     \u001b[38;5;28;01mreturn\u001b[39;00m x\u001b[38;5;241m.\u001b[39mmax() \u001b[38;5;241m-\u001b[39m x\u001b[38;5;241m.\u001b[39mmin()\n",
      "File \u001b[1;32m~\\anaconda3\\Lib\\site-packages\\pandas\\core\\generic.py:11941\u001b[0m, in \u001b[0;36mNDFrame._add_numeric_operations.<locals>.max\u001b[1;34m(self, axis, skipna, level, numeric_only, **kwargs)\u001b[0m\n\u001b[0;32m  11921\u001b[0m \u001b[38;5;129m@doc\u001b[39m(\n\u001b[0;32m  11922\u001b[0m     _num_doc,\n\u001b[0;32m  11923\u001b[0m     desc\u001b[38;5;241m=\u001b[39m\u001b[38;5;124m\"\u001b[39m\u001b[38;5;124mReturn the maximum of the values over the requested axis.\u001b[39m\u001b[38;5;130;01m\\n\u001b[39;00m\u001b[38;5;130;01m\\n\u001b[39;00m\u001b[38;5;124m\"\u001b[39m\n\u001b[1;32m   (...)\u001b[0m\n\u001b[0;32m  11939\u001b[0m     \u001b[38;5;241m*\u001b[39m\u001b[38;5;241m*\u001b[39mkwargs,\n\u001b[0;32m  11940\u001b[0m ):\n\u001b[1;32m> 11941\u001b[0m     \u001b[38;5;28;01mreturn\u001b[39;00m NDFrame\u001b[38;5;241m.\u001b[39mmax(\u001b[38;5;28mself\u001b[39m, axis, skipna, level, numeric_only, \u001b[38;5;241m*\u001b[39m\u001b[38;5;241m*\u001b[39mkwargs)\n",
      "File \u001b[1;32m~\\anaconda3\\Lib\\site-packages\\pandas\\core\\generic.py:11383\u001b[0m, in \u001b[0;36mNDFrame.max\u001b[1;34m(self, axis, skipna, level, numeric_only, **kwargs)\u001b[0m\n\u001b[0;32m  11375\u001b[0m \u001b[38;5;28;01mdef\u001b[39;00m \u001b[38;5;21mmax\u001b[39m(\n\u001b[0;32m  11376\u001b[0m     \u001b[38;5;28mself\u001b[39m,\n\u001b[0;32m  11377\u001b[0m     axis: Axis \u001b[38;5;241m|\u001b[39m \u001b[38;5;28;01mNone\u001b[39;00m \u001b[38;5;241m|\u001b[39m lib\u001b[38;5;241m.\u001b[39mNoDefault \u001b[38;5;241m=\u001b[39m lib\u001b[38;5;241m.\u001b[39mno_default,\n\u001b[1;32m   (...)\u001b[0m\n\u001b[0;32m  11381\u001b[0m     \u001b[38;5;241m*\u001b[39m\u001b[38;5;241m*\u001b[39mkwargs,\n\u001b[0;32m  11382\u001b[0m ):\n\u001b[1;32m> 11383\u001b[0m     \u001b[38;5;28;01mreturn\u001b[39;00m \u001b[38;5;28mself\u001b[39m\u001b[38;5;241m.\u001b[39m_stat_function(\n\u001b[0;32m  11384\u001b[0m         \u001b[38;5;124m\"\u001b[39m\u001b[38;5;124mmax\u001b[39m\u001b[38;5;124m\"\u001b[39m,\n\u001b[0;32m  11385\u001b[0m         nanops\u001b[38;5;241m.\u001b[39mnanmax,\n\u001b[0;32m  11386\u001b[0m         axis,\n\u001b[0;32m  11387\u001b[0m         skipna,\n\u001b[0;32m  11388\u001b[0m         level,\n\u001b[0;32m  11389\u001b[0m         numeric_only,\n\u001b[0;32m  11390\u001b[0m         \u001b[38;5;241m*\u001b[39m\u001b[38;5;241m*\u001b[39mkwargs,\n\u001b[0;32m  11391\u001b[0m     )\n",
      "File \u001b[1;32m~\\anaconda3\\Lib\\site-packages\\pandas\\core\\generic.py:11353\u001b[0m, in \u001b[0;36mNDFrame._stat_function\u001b[1;34m(self, name, func, axis, skipna, level, numeric_only, **kwargs)\u001b[0m\n\u001b[0;32m  11343\u001b[0m     warnings\u001b[38;5;241m.\u001b[39mwarn(\n\u001b[0;32m  11344\u001b[0m         \u001b[38;5;124m\"\u001b[39m\u001b[38;5;124mUsing the level keyword in DataFrame and Series aggregations is \u001b[39m\u001b[38;5;124m\"\u001b[39m\n\u001b[0;32m  11345\u001b[0m         \u001b[38;5;124m\"\u001b[39m\u001b[38;5;124mdeprecated and will be removed in a future version. Use groupby \u001b[39m\u001b[38;5;124m\"\u001b[39m\n\u001b[1;32m   (...)\u001b[0m\n\u001b[0;32m  11348\u001b[0m         stacklevel\u001b[38;5;241m=\u001b[39mfind_stack_level(),\n\u001b[0;32m  11349\u001b[0m     )\n\u001b[0;32m  11350\u001b[0m     \u001b[38;5;28;01mreturn\u001b[39;00m \u001b[38;5;28mself\u001b[39m\u001b[38;5;241m.\u001b[39m_agg_by_level(\n\u001b[0;32m  11351\u001b[0m         name, axis\u001b[38;5;241m=\u001b[39maxis, level\u001b[38;5;241m=\u001b[39mlevel, skipna\u001b[38;5;241m=\u001b[39mskipna, numeric_only\u001b[38;5;241m=\u001b[39mnumeric_only\n\u001b[0;32m  11352\u001b[0m     )\n\u001b[1;32m> 11353\u001b[0m \u001b[38;5;28;01mreturn\u001b[39;00m \u001b[38;5;28mself\u001b[39m\u001b[38;5;241m.\u001b[39m_reduce(\n\u001b[0;32m  11354\u001b[0m     func, name\u001b[38;5;241m=\u001b[39mname, axis\u001b[38;5;241m=\u001b[39maxis, skipna\u001b[38;5;241m=\u001b[39mskipna, numeric_only\u001b[38;5;241m=\u001b[39mnumeric_only\n\u001b[0;32m  11355\u001b[0m )\n",
      "File \u001b[1;32m~\\anaconda3\\Lib\\site-packages\\pandas\\core\\series.py:4816\u001b[0m, in \u001b[0;36mSeries._reduce\u001b[1;34m(self, op, name, axis, skipna, numeric_only, filter_type, **kwds)\u001b[0m\n\u001b[0;32m   4812\u001b[0m     \u001b[38;5;28;01mraise\u001b[39;00m \u001b[38;5;167;01mNotImplementedError\u001b[39;00m(\n\u001b[0;32m   4813\u001b[0m         \u001b[38;5;124mf\u001b[39m\u001b[38;5;124m\"\u001b[39m\u001b[38;5;124mSeries.\u001b[39m\u001b[38;5;132;01m{\u001b[39;00mname\u001b[38;5;132;01m}\u001b[39;00m\u001b[38;5;124m does not implement \u001b[39m\u001b[38;5;132;01m{\u001b[39;00mkwd_name\u001b[38;5;132;01m}\u001b[39;00m\u001b[38;5;124m.\u001b[39m\u001b[38;5;124m\"\u001b[39m\n\u001b[0;32m   4814\u001b[0m     )\n\u001b[0;32m   4815\u001b[0m \u001b[38;5;28;01mwith\u001b[39;00m np\u001b[38;5;241m.\u001b[39merrstate(\u001b[38;5;28mall\u001b[39m\u001b[38;5;241m=\u001b[39m\u001b[38;5;124m\"\u001b[39m\u001b[38;5;124mignore\u001b[39m\u001b[38;5;124m\"\u001b[39m):\n\u001b[1;32m-> 4816\u001b[0m     \u001b[38;5;28;01mreturn\u001b[39;00m op(delegate, skipna\u001b[38;5;241m=\u001b[39mskipna, \u001b[38;5;241m*\u001b[39m\u001b[38;5;241m*\u001b[39mkwds)\n",
      "File \u001b[1;32m~\\anaconda3\\Lib\\site-packages\\pandas\\core\\nanops.py:155\u001b[0m, in \u001b[0;36mbottleneck_switch.__call__.<locals>.f\u001b[1;34m(values, axis, skipna, **kwds)\u001b[0m\n\u001b[0;32m    153\u001b[0m         result \u001b[38;5;241m=\u001b[39m alt(values, axis\u001b[38;5;241m=\u001b[39maxis, skipna\u001b[38;5;241m=\u001b[39mskipna, \u001b[38;5;241m*\u001b[39m\u001b[38;5;241m*\u001b[39mkwds)\n\u001b[0;32m    154\u001b[0m \u001b[38;5;28;01melse\u001b[39;00m:\n\u001b[1;32m--> 155\u001b[0m     result \u001b[38;5;241m=\u001b[39m alt(values, axis\u001b[38;5;241m=\u001b[39maxis, skipna\u001b[38;5;241m=\u001b[39mskipna, \u001b[38;5;241m*\u001b[39m\u001b[38;5;241m*\u001b[39mkwds)\n\u001b[0;32m    157\u001b[0m \u001b[38;5;28;01mreturn\u001b[39;00m result\n",
      "File \u001b[1;32m~\\anaconda3\\Lib\\site-packages\\pandas\\core\\nanops.py:418\u001b[0m, in \u001b[0;36m_datetimelike_compat.<locals>.new_func\u001b[1;34m(values, axis, skipna, mask, **kwargs)\u001b[0m\n\u001b[0;32m    415\u001b[0m \u001b[38;5;28;01mif\u001b[39;00m datetimelike \u001b[38;5;129;01mand\u001b[39;00m mask \u001b[38;5;129;01mis\u001b[39;00m \u001b[38;5;28;01mNone\u001b[39;00m:\n\u001b[0;32m    416\u001b[0m     mask \u001b[38;5;241m=\u001b[39m isna(values)\n\u001b[1;32m--> 418\u001b[0m result \u001b[38;5;241m=\u001b[39m func(values, axis\u001b[38;5;241m=\u001b[39maxis, skipna\u001b[38;5;241m=\u001b[39mskipna, mask\u001b[38;5;241m=\u001b[39mmask, \u001b[38;5;241m*\u001b[39m\u001b[38;5;241m*\u001b[39mkwargs)\n\u001b[0;32m    420\u001b[0m \u001b[38;5;28;01mif\u001b[39;00m datetimelike:\n\u001b[0;32m    421\u001b[0m     result \u001b[38;5;241m=\u001b[39m _wrap_results(result, orig_values\u001b[38;5;241m.\u001b[39mdtype, fill_value\u001b[38;5;241m=\u001b[39miNaT)\n",
      "File \u001b[1;32m~\\anaconda3\\Lib\\site-packages\\pandas\\core\\nanops.py:1051\u001b[0m, in \u001b[0;36m_nanminmax.<locals>.reduction\u001b[1;34m(values, axis, skipna, mask)\u001b[0m\n\u001b[0;32m   1049\u001b[0m         result \u001b[38;5;241m=\u001b[39m np\u001b[38;5;241m.\u001b[39mnan\n\u001b[0;32m   1050\u001b[0m \u001b[38;5;28;01melse\u001b[39;00m:\n\u001b[1;32m-> 1051\u001b[0m     result \u001b[38;5;241m=\u001b[39m \u001b[38;5;28mgetattr\u001b[39m(values, meth)(axis)\n\u001b[0;32m   1053\u001b[0m result \u001b[38;5;241m=\u001b[39m _maybe_null_out(result, axis, mask, values\u001b[38;5;241m.\u001b[39mshape)\n\u001b[0;32m   1054\u001b[0m \u001b[38;5;28;01mreturn\u001b[39;00m result\n",
      "File \u001b[1;32m~\\anaconda3\\Lib\\site-packages\\numpy\\core\\_methods.py:41\u001b[0m, in \u001b[0;36m_amax\u001b[1;34m(a, axis, out, keepdims, initial, where)\u001b[0m\n\u001b[0;32m     39\u001b[0m \u001b[38;5;28;01mdef\u001b[39;00m \u001b[38;5;21m_amax\u001b[39m(a, axis\u001b[38;5;241m=\u001b[39m\u001b[38;5;28;01mNone\u001b[39;00m, out\u001b[38;5;241m=\u001b[39m\u001b[38;5;28;01mNone\u001b[39;00m, keepdims\u001b[38;5;241m=\u001b[39m\u001b[38;5;28;01mFalse\u001b[39;00m,\n\u001b[0;32m     40\u001b[0m           initial\u001b[38;5;241m=\u001b[39m_NoValue, where\u001b[38;5;241m=\u001b[39m\u001b[38;5;28;01mTrue\u001b[39;00m):\n\u001b[1;32m---> 41\u001b[0m     \u001b[38;5;28;01mreturn\u001b[39;00m umr_maximum(a, axis, \u001b[38;5;28;01mNone\u001b[39;00m, out, keepdims, initial, where)\n",
      "\u001b[1;31mTypeError\u001b[0m: '>=' not supported between instances of 'int' and 'str'"
     ]
    }
   ],
   "source": [
    "def f(x):\n",
    "    return x.max() - x.min()\n",
    "\n",
    "df2.apply(f, axis=1)\n"
   ]
  },
  {
   "cell_type": "code",
   "execution_count": null,
   "id": "c67ee611",
   "metadata": {},
   "outputs": [],
   "source": [
    "\n",
    "tinp = pd.DataFrame(np.arange(5*7).reshape(5,7))\n",
    "tinp\n",
    "\n",
    "\n",
    "sampler = np.random.permutation(3)\n",
    "sampler\n",
    "tinp.take(sampler)"
   ]
  },
  {
   "cell_type": "code",
   "execution_count": null,
   "id": "2f2ce9b0",
   "metadata": {},
   "outputs": [],
   "source": [
    "s1 = pd.Series([0,1], index = [\"a\",\"b\"])\n",
    "s2 = pd.Series([0,1,4], index = [\"c\",\"d\", \"e\"])\n",
    "s3 = pd.Series([5,6], index = [\"f\",\"g\"])\n",
    "\n",
    "pd.concat([s1,s2,s3], axis=\"columns\")\n",
    "s4 = pd.concat([s1,s3])\n",
    "pd.concat([s1,s4], axis=\"columns\", join=\"inner\")"
   ]
  }
 ],
 "metadata": {
  "kernelspec": {
   "display_name": "Python 3 (ipykernel)",
   "language": "python",
   "name": "python3"
  },
  "language_info": {
   "codemirror_mode": {
    "name": "ipython",
    "version": 3
   },
   "file_extension": ".py",
   "mimetype": "text/x-python",
   "name": "python",
   "nbconvert_exporter": "python",
   "pygments_lexer": "ipython3",
   "version": "3.11.4"
  }
 },
 "nbformat": 4,
 "nbformat_minor": 5
}
